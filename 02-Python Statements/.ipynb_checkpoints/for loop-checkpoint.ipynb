{
 "cells": [
  {
   "cell_type": "code",
   "execution_count": 9,
   "metadata": {},
   "outputs": [
    {
     "name": "stdout",
     "output_type": "stream",
     "text": [
      "line #0\n",
      "line #1\n",
      "line #2\n",
      "line #3\n",
      "line #4\n"
     ]
    }
   ],
   "source": [
    "for i in range(5):\n",
    "    print(f\"line #{i}\")"
   ]
  },
  {
   "cell_type": "code",
   "execution_count": 17,
   "metadata": {},
   "outputs": [
    {
     "name": "stdout",
     "output_type": "stream",
     "text": [
      "the key is 'key1'\n",
      "the key is 'key3'\n",
      "the key is 'key2'\n"
     ]
    }
   ],
   "source": [
    "ls = {'key1':'value1', 'key3':'value3', 'key2':'value2'}\n",
    "for i in ls:\n",
    "    print(f\"the key is {i!r}\")"
   ]
  },
  {
   "cell_type": "code",
   "execution_count": 19,
   "metadata": {},
   "outputs": [
    {
     "name": "stdout",
     "output_type": "stream",
     "text": [
      "the item is ('key1', 'value1')\n",
      "the item is ('key3', 'value3')\n",
      "the item is ('key2', 'value2')\n"
     ]
    }
   ],
   "source": [
    "for i in ls.items():\n",
    "    print(f\"the item is {i!r}\")"
   ]
  },
  {
   "cell_type": "code",
   "execution_count": 41,
   "metadata": {},
   "outputs": [
    {
     "name": "stdout",
     "output_type": "stream",
     "text": [
      "H\n",
      "R\n",
      "D\n",
      "E\n",
      "!\n",
      "W\n",
      " \n",
      "O\n",
      "L\n"
     ]
    }
   ],
   "source": [
    "for l in set(\"Hello World!\"):\n",
    "    print(l.upper())"
   ]
  },
  {
   "cell_type": "code",
   "execution_count": 40,
   "metadata": {},
   "outputs": [
    {
     "name": "stdout",
     "output_type": "stream",
     "text": [
      "1 is a prime number\n",
      "2 is a prime number\n",
      "3 is a prime number\n",
      "4 = 2 * 2\n",
      "5 is a prime number\n",
      "6 = 2 * 3\n",
      "7 is a prime number\n",
      "8 = 2 * 4\n",
      "9 = 3 * 3\n",
      "10 = 2 * 5\n",
      "11 is a prime number\n",
      "12 = 2 * 6\n",
      "12 = 3 * 4\n",
      "13 is a prime number\n",
      "14 = 2 * 7\n",
      "15 = 3 * 5\n",
      "16 = 2 * 8\n",
      "16 = 4 * 4\n",
      "17 is a prime number\n",
      "18 = 2 * 9\n",
      "18 = 3 * 6\n",
      "19 is a prime number\n"
     ]
    }
   ],
   "source": [
    "for n in range(1, 20):\n",
    "    numset = set()\n",
    "    for sub in range(2, n):\n",
    "        if n % sub == 0 and sub not in numset:\n",
    "            sub_2 = n // sub\n",
    "            print(f\"{n} = {sub} * {sub_2}\")\n",
    "            numset.add(sub)\n",
    "            numset.add(sub_2)\n",
    "    if not(len(numset)):\n",
    "        print(f\"{n} is a prime number\")"
   ]
  }
 ],
 "metadata": {
  "kernelspec": {
   "display_name": "Python 3",
   "language": "python",
   "name": "python3"
  },
  "language_info": {
   "codemirror_mode": {
    "name": "ipython",
    "version": 3
   },
   "file_extension": ".py",
   "mimetype": "text/x-python",
   "name": "python",
   "nbconvert_exporter": "python",
   "pygments_lexer": "ipython3",
   "version": "3.7.0"
  }
 },
 "nbformat": 4,
 "nbformat_minor": 2
}
