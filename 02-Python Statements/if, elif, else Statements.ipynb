{
 "cells": [
  {
   "cell_type": "code",
   "execution_count": 1,
   "metadata": {},
   "outputs": [
    {
     "name": "stdout",
     "output_type": "stream",
     "text": [
      "Sam, you're so young!\n"
     ]
    }
   ],
   "source": [
    "name = \"Sam\"\n",
    "age = 15\n",
    "\n",
    "if name == \"Max\":\n",
    "    print(\"Hello my dear Max!\")\n",
    "elif name == \"Sam\":\n",
    "    if age < 18:\n",
    "        print(\"Sam, you're so young!\")\n",
    "    elif age < 0:\n",
    "        print(\"Aa... what?\")\n",
    "    else:\n",
    "        print(\"You're big boy, Sam!\")\n",
    "else:\n",
    "    print(f\"How did you say your name? {name}?\")"
   ]
  },
  {
   "cell_type": "code",
   "execution_count": 3,
   "metadata": {},
   "outputs": [
    {
     "name": "stdout",
     "output_type": "stream",
     "text": [
      "How did you say your name? Matt?\n"
     ]
    }
   ],
   "source": [
    "name = \"Matt\"\n",
    "age = 15\n",
    "\n",
    "if name == \"Max\":\n",
    "    print(\"Hello my dear Max!\")\n",
    "elif name == \"Sam\":\n",
    "    if age < 18:\n",
    "        print(\"Sam, you're so young!\")\n",
    "    elif age < 0:\n",
    "        print(\"Aa... what?\")\n",
    "    else:\n",
    "        print(\"You're big boy, Sam!\")\n",
    "else:\n",
    "    print(f\"How did you say your name? {name}?\")"
   ]
  },
  {
   "cell_type": "code",
   "execution_count": 4,
   "metadata": {},
   "outputs": [
    {
     "name": "stdout",
     "output_type": "stream",
     "text": [
      "Ok!\n"
     ]
    }
   ],
   "source": [
    "if True == 1 and age == 15:\n",
    "    print(\"Ok!\")"
   ]
  }
 ],
 "metadata": {
  "kernelspec": {
   "display_name": "Python 3",
   "language": "python",
   "name": "python3"
  },
  "language_info": {
   "codemirror_mode": {
    "name": "ipython",
    "version": 3
   },
   "file_extension": ".py",
   "mimetype": "text/x-python",
   "name": "python",
   "nbconvert_exporter": "python",
   "pygments_lexer": "ipython3",
   "version": "3.7.0"
  }
 },
 "nbformat": 4,
 "nbformat_minor": 2
}
