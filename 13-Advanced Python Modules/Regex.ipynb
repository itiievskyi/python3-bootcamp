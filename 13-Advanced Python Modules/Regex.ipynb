{
 "cells": [
  {
   "cell_type": "markdown",
   "metadata": {},
   "source": [
    "# #1"
   ]
  },
  {
   "cell_type": "code",
   "execution_count": 1,
   "metadata": {},
   "outputs": [],
   "source": [
    "import re"
   ]
  },
  {
   "cell_type": "code",
   "execution_count": 5,
   "metadata": {},
   "outputs": [],
   "source": [
    "patterns = 'word'"
   ]
  },
  {
   "cell_type": "code",
   "execution_count": 18,
   "metadata": {},
   "outputs": [],
   "source": [
    "text = \"sfsf . word sdfds dsf . f saworddf f . \""
   ]
  },
  {
   "cell_type": "code",
   "execution_count": 19,
   "metadata": {},
   "outputs": [],
   "source": [
    "match = re.search(patterns, text)"
   ]
  },
  {
   "cell_type": "code",
   "execution_count": 20,
   "metadata": {},
   "outputs": [
    {
     "data": {
      "text/plain": [
       "<re.Match object; span=(7, 11), match='word'>"
      ]
     },
     "execution_count": 20,
     "metadata": {},
     "output_type": "execute_result"
    }
   ],
   "source": [
    "match"
   ]
  },
  {
   "cell_type": "code",
   "execution_count": 21,
   "metadata": {},
   "outputs": [
    {
     "data": {
      "text/plain": [
       "7"
      ]
     },
     "execution_count": 21,
     "metadata": {},
     "output_type": "execute_result"
    }
   ],
   "source": [
    "match.start()"
   ]
  },
  {
   "cell_type": "code",
   "execution_count": 22,
   "metadata": {},
   "outputs": [
    {
     "data": {
      "text/plain": [
       "11"
      ]
     },
     "execution_count": 22,
     "metadata": {},
     "output_type": "execute_result"
    }
   ],
   "source": [
    "match.end()"
   ]
  },
  {
   "cell_type": "code",
   "execution_count": 27,
   "metadata": {},
   "outputs": [],
   "source": [
    "match = re.findall(patterns, text)"
   ]
  },
  {
   "cell_type": "code",
   "execution_count": 28,
   "metadata": {},
   "outputs": [
    {
     "data": {
      "text/plain": [
       "['word', 'word']"
      ]
     },
     "execution_count": 28,
     "metadata": {},
     "output_type": "execute_result"
    }
   ],
   "source": [
    "match"
   ]
  },
  {
   "cell_type": "markdown",
   "metadata": {},
   "source": [
    "# #2"
   ]
  },
  {
   "cell_type": "code",
   "execution_count": 30,
   "metadata": {},
   "outputs": [],
   "source": [
    "import timeit"
   ]
  },
  {
   "cell_type": "code",
   "execution_count": 36,
   "metadata": {},
   "outputs": [],
   "source": [
    "lorem = \"Lorem ipsum dolor sit amet, consectetur adipiscing elit, sed do eiusmod tempor incididunt ut labore et dolore magna aliqua. Ut enim ad minim veniam, quis nostrud exercitation ullamco laboris nisi ut aliquip ex ea commodo consequat. Duis aute irure dolor in reprehenderit in voluptate velit esse cillum dolore eu fugiat nulla pariatur. Excepteur sint occaecat cupidatat non proident, sunt in culpa qui officia deserunt mollit anim id est laborum.\""
   ]
  },
  {
   "cell_type": "code",
   "execution_count": 39,
   "metadata": {},
   "outputs": [
    {
     "data": {
      "text/plain": [
       "['Lorem',\n",
       " 'ipsum',\n",
       " 'dolor',\n",
       " 'sit',\n",
       " 'amet,',\n",
       " 'consectetur',\n",
       " 'adipiscing',\n",
       " 'elit,',\n",
       " 'sed',\n",
       " 'do',\n",
       " 'eiusmod',\n",
       " 'tempor',\n",
       " 'incididunt',\n",
       " 'ut',\n",
       " 'labore',\n",
       " 'et',\n",
       " 'dolore',\n",
       " 'magna',\n",
       " 'aliqua.',\n",
       " 'Ut',\n",
       " 'enim',\n",
       " 'ad',\n",
       " 'minim',\n",
       " 'veniam,',\n",
       " 'quis',\n",
       " 'nostrud',\n",
       " 'exercitation',\n",
       " 'ullamco',\n",
       " 'laboris',\n",
       " 'nisi',\n",
       " 'ut',\n",
       " 'aliquip',\n",
       " 'ex',\n",
       " 'ea',\n",
       " 'commodo',\n",
       " 'consequat.',\n",
       " 'Duis',\n",
       " 'aute',\n",
       " 'irure',\n",
       " 'dolor',\n",
       " 'in',\n",
       " 'reprehenderit',\n",
       " 'in',\n",
       " 'voluptate',\n",
       " 'velit',\n",
       " 'esse',\n",
       " 'cillum',\n",
       " 'dolore',\n",
       " 'eu',\n",
       " 'fugiat',\n",
       " 'nulla',\n",
       " 'pariatur.',\n",
       " 'Excepteur',\n",
       " 'sint',\n",
       " 'occaecat',\n",
       " 'cupidatat',\n",
       " 'non',\n",
       " 'proident,',\n",
       " 'sunt',\n",
       " 'in',\n",
       " 'culpa',\n",
       " 'qui',\n",
       " 'officia',\n",
       " 'deserunt',\n",
       " 'mollit',\n",
       " 'anim',\n",
       " 'id',\n",
       " 'est',\n",
       " 'laborum.']"
      ]
     },
     "execution_count": 39,
     "metadata": {},
     "output_type": "execute_result"
    }
   ],
   "source": [
    "lorem.split()"
   ]
  },
  {
   "cell_type": "code",
   "execution_count": 40,
   "metadata": {},
   "outputs": [
    {
     "data": {
      "text/plain": [
       "['Lorem',\n",
       " 'ipsum',\n",
       " 'dolor',\n",
       " 'sit',\n",
       " 'amet,',\n",
       " 'consectetur',\n",
       " 'adipiscing',\n",
       " 'elit,',\n",
       " 'sed',\n",
       " 'do',\n",
       " 'eiusmod',\n",
       " 'tempor',\n",
       " 'incididunt',\n",
       " 'ut',\n",
       " 'labore',\n",
       " 'et',\n",
       " 'dolore',\n",
       " 'magna',\n",
       " 'aliqua.',\n",
       " 'Ut',\n",
       " 'enim',\n",
       " 'ad',\n",
       " 'minim',\n",
       " 'veniam,',\n",
       " 'quis',\n",
       " 'nostrud',\n",
       " 'exercitation',\n",
       " 'ullamco',\n",
       " 'laboris',\n",
       " 'nisi',\n",
       " 'ut',\n",
       " 'aliquip',\n",
       " 'ex',\n",
       " 'ea',\n",
       " 'commodo',\n",
       " 'consequat.',\n",
       " 'Duis',\n",
       " 'aute',\n",
       " 'irure',\n",
       " 'dolor',\n",
       " 'in',\n",
       " 'reprehenderit',\n",
       " 'in',\n",
       " 'voluptate',\n",
       " 'velit',\n",
       " 'esse',\n",
       " 'cillum',\n",
       " 'dolore',\n",
       " 'eu',\n",
       " 'fugiat',\n",
       " 'nulla',\n",
       " 'pariatur.',\n",
       " 'Excepteur',\n",
       " 'sint',\n",
       " 'occaecat',\n",
       " 'cupidatat',\n",
       " 'non',\n",
       " 'proident,',\n",
       " 'sunt',\n",
       " 'in',\n",
       " 'culpa',\n",
       " 'qui',\n",
       " 'officia',\n",
       " 'deserunt',\n",
       " 'mollit',\n",
       " 'anim',\n",
       " 'id',\n",
       " 'est',\n",
       " 'laborum.']"
      ]
     },
     "execution_count": 40,
     "metadata": {},
     "output_type": "execute_result"
    }
   ],
   "source": [
    "re.split(' ', lorem)"
   ]
  },
  {
   "cell_type": "code",
   "execution_count": 43,
   "metadata": {},
   "outputs": [
    {
     "name": "stdout",
     "output_type": "stream",
     "text": [
      "6.26 µs ± 260 ns per loop (mean ± std. dev. of 7 runs, 100000 loops each)\n"
     ]
    }
   ],
   "source": [
    "%timeit lorem.split()"
   ]
  },
  {
   "cell_type": "code",
   "execution_count": 44,
   "metadata": {},
   "outputs": [
    {
     "name": "stdout",
     "output_type": "stream",
     "text": [
      "10.7 µs ± 181 ns per loop (mean ± std. dev. of 7 runs, 100000 loops each)\n"
     ]
    }
   ],
   "source": [
    "%timeit re.split(' ', lorem)"
   ]
  },
  {
   "cell_type": "markdown",
   "metadata": {},
   "source": [
    "# #3"
   ]
  },
  {
   "cell_type": "code",
   "execution_count": 45,
   "metadata": {},
   "outputs": [],
   "source": [
    "t = \"asdfadf mp5 mdsklf AVC-6 sdfn . k 5465   dsfasf aM6, a9\""
   ]
  },
  {
   "cell_type": "code",
   "execution_count": 57,
   "metadata": {},
   "outputs": [
    {
     "name": "stdout",
     "output_type": "stream",
     "text": [
      "['mp5', 'aM6']\n"
     ]
    }
   ],
   "source": [
    "pattern = r\"[A-z][A-z]+\\d+\"\n",
    "\n",
    "print(re.findall(pattern, t))"
   ]
  },
  {
   "cell_type": "code",
   "execution_count": null,
   "metadata": {},
   "outputs": [],
   "source": []
  }
 ],
 "metadata": {
  "kernelspec": {
   "display_name": "Python 3",
   "language": "python",
   "name": "python3"
  },
  "language_info": {
   "codemirror_mode": {
    "name": "ipython",
    "version": 3
   },
   "file_extension": ".py",
   "mimetype": "text/x-python",
   "name": "python",
   "nbconvert_exporter": "python",
   "pygments_lexer": "ipython3",
   "version": "3.7.0"
  }
 },
 "nbformat": 4,
 "nbformat_minor": 2
}
