{
 "cells": [
  {
   "cell_type": "code",
   "execution_count": 6,
   "metadata": {},
   "outputs": [
    {
     "name": "stdout",
     "output_type": "stream",
     "text": [
      "x = 0, and it's less than 5\n",
      "x = 1, and it's less than 5\n",
      "x = 2, and it's less than 5\n",
      "x = 3, and it's less than 5\n",
      "x = 4, and it's less than 5\n",
      "Done!\n"
     ]
    }
   ],
   "source": [
    "x = 0\n",
    "y = 5\n",
    "\n",
    "while x < y:\n",
    "    print(f\"x = {x}, and it's less than {y}\")\n",
    "    x += 1\n",
    "else:\n",
    "    print(\"Done!\")"
   ]
  },
  {
   "cell_type": "code",
   "execution_count": 11,
   "metadata": {},
   "outputs": [
    {
     "name": "stdout",
     "output_type": "stream",
     "text": [
      "current letter is e\n",
      "current letter is l\n",
      "current letter is l\n",
      "current letter is o\n",
      "current letter is o\n"
     ]
    }
   ],
   "source": [
    "s = \"Hello World!\"\n",
    "x = 0\n",
    "\n",
    "while(s[x] != 'r'):\n",
    "    if s[x] == ' ':\n",
    "        x += 1\n",
    "        continue\n",
    "    elif s[x].isupper():\n",
    "        pass\n",
    "    else:\n",
    "        print(f\"current letter is {s[x]}\")\n",
    "    x += 1"
   ]
  },
  {
   "cell_type": "code",
   "execution_count": 20,
   "metadata": {},
   "outputs": [
    {
     "name": "stdout",
     "output_type": "stream",
     "text": [
      "The current number is 1\n",
      "The current number is 2\n",
      "The current number is 3\n",
      "The current number is 4\n",
      "The current number is 5\n",
      "The current number is 6\n",
      "The current number is 7\n",
      "The current number is 8\n",
      "The current number is 9\n",
      "The current number is 10\n",
      "The current number is 11\n",
      "The current number is 12\n",
      "The current number is 13\n",
      "The last number is 14\n"
     ]
    }
   ],
   "source": [
    "for s in range(1, 20):\n",
    "    if s % 7 == 0 and s // 7 > 1:\n",
    "        break\n",
    "    else:\n",
    "        print(f\"The current number is {s}\")\n",
    "\n",
    "print(f\"The last number is {s}\")"
   ]
  }
 ],
 "metadata": {
  "kernelspec": {
   "display_name": "Python 3",
   "language": "python",
   "name": "python3"
  },
  "language_info": {
   "codemirror_mode": {
    "name": "ipython",
    "version": 3
   },
   "file_extension": ".py",
   "mimetype": "text/x-python",
   "name": "python",
   "nbconvert_exporter": "python",
   "pygments_lexer": "ipython3",
   "version": "3.7.0"
  }
 },
 "nbformat": 4,
 "nbformat_minor": 2
}
