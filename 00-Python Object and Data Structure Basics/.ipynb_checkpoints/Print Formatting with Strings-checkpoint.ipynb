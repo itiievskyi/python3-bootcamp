{
 "cells": [
  {
   "cell_type": "markdown",
   "metadata": {},
   "source": [
    "# Formatting strings (new)"
   ]
  },
  {
   "cell_type": "code",
   "execution_count": 1,
   "metadata": {},
   "outputs": [],
   "source": [
    "s1 = \"Magg\""
   ]
  },
  {
   "cell_type": "code",
   "execution_count": 2,
   "metadata": {},
   "outputs": [
    {
     "name": "stdout",
     "output_type": "stream",
     "text": [
      "My name is Magg\n"
     ]
    }
   ],
   "source": [
    "print(\"My name is {}\".format(s1))"
   ]
  },
  {
   "cell_type": "code",
   "execution_count": 5,
   "metadata": {},
   "outputs": [
    {
     "name": "stdout",
     "output_type": "stream",
     "text": [
      "My name is Magg\n"
     ]
    }
   ],
   "source": [
    "print(\"My name is \" + s1)"
   ]
  },
  {
   "cell_type": "code",
   "execution_count": 6,
   "metadata": {},
   "outputs": [],
   "source": [
    "s2 = \"Plamm\""
   ]
  },
  {
   "cell_type": "code",
   "execution_count": 7,
   "metadata": {
    "scrolled": true
   },
   "outputs": [
    {
     "name": "stdout",
     "output_type": "stream",
     "text": [
      "My name is Magg, my surname is Plamm\n"
     ]
    }
   ],
   "source": [
    "print(\"My name is {}, my surname is {}\".format(s1, s2))"
   ]
  },
  {
   "cell_type": "code",
   "execution_count": 9,
   "metadata": {},
   "outputs": [
    {
     "name": "stdout",
     "output_type": "stream",
     "text": [
      "My name is aaaaaaaa, my surname is Magg\n"
     ]
    }
   ],
   "source": [
    "print(\"My name is {}, my surname is {}\".format(\"aaaaaaaa\", s1, s2))"
   ]
  },
  {
   "cell_type": "code",
   "execution_count": 12,
   "metadata": {},
   "outputs": [
    {
     "name": "stdout",
     "output_type": "stream",
     "text": [
      "My name is Magg, my surname is Plamm\n"
     ]
    }
   ],
   "source": [
    "print(\"My name is {1}, my surname is {2}\".format(\"aaaaaaaa\", s1, s2))"
   ]
  },
  {
   "cell_type": "code",
   "execution_count": 13,
   "metadata": {},
   "outputs": [
    {
     "name": "stdout",
     "output_type": "stream",
     "text": [
      "My name is aaaaaaaa, my surname is aaaaaaaa\n"
     ]
    }
   ],
   "source": [
    "print(\"My name is {0}, my surname is {0}\".format(\"aaaaaaaa\", s1, s2))"
   ]
  },
  {
   "cell_type": "code",
   "execution_count": 14,
   "metadata": {},
   "outputs": [
    {
     "name": "stdout",
     "output_type": "stream",
     "text": [
      "My name is Bill, my surname is Gates\n"
     ]
    }
   ],
   "source": [
    "print(\"My name is {nm}, my surname is {sn}\".format(\"aaaaaaaa\", nm = \"Bill\", sn = \"Gates\"))"
   ]
  },
  {
   "cell_type": "markdown",
   "metadata": {},
   "source": [
    "# Formatting floats"
   ]
  },
  {
   "cell_type": "code",
   "execution_count": 15,
   "metadata": {},
   "outputs": [
    {
     "data": {
      "text/plain": [
       "34.48275862068966"
      ]
     },
     "execution_count": 15,
     "metadata": {},
     "output_type": "execute_result"
    }
   ],
   "source": [
    "num = 1000 / 29\n",
    "num"
   ]
  },
  {
   "cell_type": "code",
   "execution_count": 16,
   "metadata": {},
   "outputs": [
    {
     "name": "stdout",
     "output_type": "stream",
     "text": [
      "1000 / 29 = 34.48275862068966\n"
     ]
    }
   ],
   "source": [
    "print(\"1000 / 29 = {}\".format(num))"
   ]
  },
  {
   "cell_type": "code",
   "execution_count": 17,
   "metadata": {},
   "outputs": [
    {
     "name": "stdout",
     "output_type": "stream",
     "text": [
      "1000 / 29 =   34.48276\n"
     ]
    }
   ],
   "source": [
    "#width = 10, precision = 5\n",
    "print(\"1000 / 29 = {:10.5f}\".format(num))"
   ]
  },
  {
   "cell_type": "code",
   "execution_count": 18,
   "metadata": {},
   "outputs": [
    {
     "name": "stdout",
     "output_type": "stream",
     "text": [
      "1000 / 29 = 34\n"
     ]
    }
   ],
   "source": [
    "print(\"1000 / 29 = {:0.0f}\".format(num))"
   ]
  },
  {
   "cell_type": "code",
   "execution_count": 19,
   "metadata": {},
   "outputs": [
    {
     "name": "stdout",
     "output_type": "stream",
     "text": [
      "1000 / 29 = 34.48275862068965835760536720044910907745361328125000\n"
     ]
    }
   ],
   "source": [
    "print(\"1000 / 29 = {:10.50f}\".format(num))"
   ]
  },
  {
   "cell_type": "code",
   "execution_count": 20,
   "metadata": {},
   "outputs": [
    {
     "data": {
      "text/plain": [
       "40.0"
      ]
     },
     "execution_count": 20,
     "metadata": {},
     "output_type": "execute_result"
    }
   ],
   "source": [
    "num_2 = 1000 / 25\n",
    "num_2"
   ]
  },
  {
   "cell_type": "code",
   "execution_count": 23,
   "metadata": {},
   "outputs": [
    {
     "name": "stdout",
     "output_type": "stream",
     "text": [
      "1000 / 29 = 40.00000000000000000000\n"
     ]
    }
   ],
   "source": [
    "print(\"1000 / 29 = {:.20f}\".format(num_2))"
   ]
  },
  {
   "cell_type": "markdown",
   "metadata": {},
   "source": [
    "# F-strings"
   ]
  },
  {
   "cell_type": "code",
   "execution_count": 26,
   "metadata": {},
   "outputs": [
    {
     "name": "stdout",
     "output_type": "stream",
     "text": [
      "Hello! My name is Magg Plamm and I'm 34\n"
     ]
    }
   ],
   "source": [
    "print(f\"Hello! My name is {s1} {s2} and I'm {num:.0f}\")"
   ]
  },
  {
   "cell_type": "code",
   "execution_count": 52,
   "metadata": {},
   "outputs": [
    {
     "name": "stdout",
     "output_type": "stream",
     "text": [
      "Hello! My name is ...Magg... _____Plamm and I'm 0034\n"
     ]
    }
   ],
   "source": [
    "print(f\"Hello! My name is {s1:.^10} {s2:_>10} and I'm {num:04.0f}\")"
   ]
  },
  {
   "cell_type": "code",
   "execution_count": 53,
   "metadata": {},
   "outputs": [
    {
     "name": "stdout",
     "output_type": "stream",
     "text": [
      "Hello! My name is 'Magg'\n"
     ]
    }
   ],
   "source": [
    "#Alternative to %r\n",
    "print(f\"Hello! My name is {s1!r}\")"
   ]
  },
  {
   "cell_type": "code",
   "execution_count": 54,
   "metadata": {},
   "outputs": [
    {
     "data": {
      "text/plain": [
       "True"
      ]
     },
     "execution_count": 54,
     "metadata": {},
     "output_type": "execute_result"
    }
   ],
   "source": [
    "yes = True\n",
    "yes"
   ]
  },
  {
   "cell_type": "code",
   "execution_count": 55,
   "metadata": {},
   "outputs": [
    {
     "name": "stdout",
     "output_type": "stream",
     "text": [
      "He said: True\n"
     ]
    }
   ],
   "source": [
    "print(f\"He said: {yes}\")"
   ]
  },
  {
   "cell_type": "code",
   "execution_count": 71,
   "metadata": {},
   "outputs": [
    {
     "name": "stdout",
     "output_type": "stream",
     "text": [
      "He said: '\\u3053\\u3093\\u306b\\u3061\\u306f'\n"
     ]
    }
   ],
   "source": [
    "print(f\"He said: {'こんにちは'!a}\")"
   ]
  },
  {
   "cell_type": "markdown",
   "metadata": {},
   "source": [
    "# Old-style formatting: %"
   ]
  },
  {
   "cell_type": "code",
   "execution_count": 29,
   "metadata": {},
   "outputs": [
    {
     "name": "stdout",
     "output_type": "stream",
     "text": [
      "Hello! My name is Magg Plamm and I'm 34\n"
     ]
    }
   ],
   "source": [
    "print(\"Hello! My name is %s %s and I'm %d\" %(s1, s2, num))"
   ]
  },
  {
   "cell_type": "code",
   "execution_count": 36,
   "metadata": {},
   "outputs": [
    {
     "name": "stdout",
     "output_type": "stream",
     "text": [
      "Her name is 'Magg'. She's 34\n"
     ]
    }
   ],
   "source": [
    "print(\"Her name is %r. She's %.0f\" %(s1, num))"
   ]
  },
  {
   "cell_type": "code",
   "execution_count": 37,
   "metadata": {},
   "outputs": [
    {
     "name": "stdout",
     "output_type": "stream",
     "text": [
      "He said: 'True'\n"
     ]
    }
   ],
   "source": [
    "print(\"He said: '%s'\" %True)"
   ]
  },
  {
   "cell_type": "code",
   "execution_count": 38,
   "metadata": {},
   "outputs": [
    {
     "name": "stdout",
     "output_type": "stream",
     "text": [
      "He said: '1'\n"
     ]
    }
   ],
   "source": [
    "print(\"He said: '%d'\" %True)"
   ]
  }
 ],
 "metadata": {
  "kernelspec": {
   "display_name": "Python 3",
   "language": "python",
   "name": "python3"
  },
  "language_info": {
   "codemirror_mode": {
    "name": "ipython",
    "version": 3
   },
   "file_extension": ".py",
   "mimetype": "text/x-python",
   "name": "python",
   "nbconvert_exporter": "python",
   "pygments_lexer": "ipython3",
   "version": "3.7.0"
  }
 },
 "nbformat": 4,
 "nbformat_minor": 2
}
